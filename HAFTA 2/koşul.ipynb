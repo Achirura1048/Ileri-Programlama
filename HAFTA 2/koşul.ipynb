{
 "cells": [
  {
   "cell_type": "code",
   "execution_count": 14,
   "metadata": {},
   "outputs": [
    {
     "name": "stdout",
     "output_type": "stream",
     "text": [
      "Bir Sayı Giriniz:\n",
      "Pozitif\n"
     ]
    }
   ],
   "source": [
    "print(\"Bir Sayı Giriniz:\")\n",
    "sayi = int(input())\n",
    "\n",
    "if sayi < 0:\n",
    "    print(\"Negatif\")\n",
    "elif sayi == 0:\n",
    "    print(\"Sıfır\")\n",
    "else:\n",
    "    print(\"Pozitif\")\n",
    "    "
   ]
  }
 ],
 "metadata": {
  "kernelspec": {
   "display_name": "Python 3",
   "language": "python",
   "name": "python3"
  },
  "language_info": {
   "codemirror_mode": {
    "name": "ipython",
    "version": 3
   },
   "file_extension": ".py",
   "mimetype": "text/x-python",
   "name": "python",
   "nbconvert_exporter": "python",
   "pygments_lexer": "ipython3",
   "version": "3.12.4"
  }
 },
 "nbformat": 4,
 "nbformat_minor": 2
}
