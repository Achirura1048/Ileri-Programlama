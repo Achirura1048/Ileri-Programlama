{
 "cells": [
  {
   "cell_type": "code",
   "execution_count": 24,
   "metadata": {},
   "outputs": [
    {
     "name": "stdout",
     "output_type": "stream",
     "text": [
      "a\n",
      "Ankara\n",
      "İstanbul\n",
      "a\n",
      "c\n",
      "Atilla Burak Artıran\n",
      "['Atilla Burak Artıran']\n"
     ]
    },
    {
     "data": {
      "text/plain": [
       "13"
      ]
     },
     "execution_count": 24,
     "metadata": {},
     "output_type": "execute_result"
    }
   ],
   "source": [
    "list=[1,2,6,3.14,'a','Ankara' , 'İstanbul' , 7.12]\n",
    "\n",
    "list2=['a' , 'c' , \"Atilla Burak Artıran\" , 3.87 , 10.4]\n",
    "\n",
    "list3 = list+list2\n",
    "\n",
    "for i in list3:\n",
    "    if type(i) == str:\n",
    "        print(i)\n",
    "\n",
    "mylist=[] \n",
    "mylist.append(list2[2])\n",
    "\n",
    "print(mylist)\n",
    "\n",
    "list[2:]\n",
    "\n",
    "len(list3)"
   ]
  }
 ],
 "metadata": {
  "kernelspec": {
   "display_name": "Python 3",
   "language": "python",
   "name": "python3"
  },
  "language_info": {
   "codemirror_mode": {
    "name": "ipython",
    "version": 3
   },
   "file_extension": ".py",
   "mimetype": "text/x-python",
   "name": "python",
   "nbconvert_exporter": "python",
   "pygments_lexer": "ipython3",
   "version": "3.12.4"
  }
 },
 "nbformat": 4,
 "nbformat_minor": 2
}
