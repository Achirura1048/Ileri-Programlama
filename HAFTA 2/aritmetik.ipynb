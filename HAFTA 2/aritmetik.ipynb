{
 "cells": [
  {
   "cell_type": "code",
   "execution_count": 2,
   "metadata": {},
   "outputs": [
    {
     "name": "stdout",
     "output_type": "stream",
     "text": [
      "5.85\n",
      "0.43000000000000016\n",
      "8.5094\n",
      "1.1586715867158672\n",
      "0.43000000000000016\n"
     ]
    }
   ],
   "source": [
    "a = 3.14\n",
    "b = 2.71\n",
    "\n",
    "c = a + b\n",
    "d = a - b\n",
    "f = a * b\n",
    "g = a / b\n",
    "h = a % b\n",
    "\n",
    "\n",
    "print(c)\n",
    "print(d)\n",
    "print(f)\n",
    "print(g)\n",
    "print(h)\n",
    "\n",
    "\n"
   ]
  }
 ],
 "metadata": {
  "kernelspec": {
   "display_name": "Python 3",
   "language": "python",
   "name": "python3"
  },
  "language_info": {
   "codemirror_mode": {
    "name": "ipython",
    "version": 3
   },
   "file_extension": ".py",
   "mimetype": "text/x-python",
   "name": "python",
   "nbconvert_exporter": "python",
   "pygments_lexer": "ipython3",
   "version": "3.12.4"
  }
 },
 "nbformat": 4,
 "nbformat_minor": 2
}
